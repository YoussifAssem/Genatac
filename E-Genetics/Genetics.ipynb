{
  "nbformat": 4,
  "nbformat_minor": 0,
  "metadata": {
    "colab": {
      "name": "Genetics.ipynb",
      "provenance": [],
      "authorship_tag": "ABX9TyNwvqy9hIIj2k8Bh62hpYKz",
      "include_colab_link": true
    },
    "kernelspec": {
      "name": "python3",
      "display_name": "Python 3"
    },
    "language_info": {
      "name": "python"
    }
  },
  "cells": [
    {
      "cell_type": "markdown",
      "metadata": {
        "id": "view-in-github",
        "colab_type": "text"
      },
      "source": [
        "<a href=\"https://colab.research.google.com/github/YoussifAssem/Genetics/blob/main/E-Genetics/Genetics.ipynb\" target=\"_parent\"><img src=\"https://colab.research.google.com/assets/colab-badge.svg\" alt=\"Open In Colab\"/></a>"
      ]
    },
    {
      "cell_type": "code",
      "metadata": {
        "id": "cLkPfv4-dBc9",
        "colab": {
          "base_uri": "https://localhost:8080/"
        },
        "outputId": "b840135e-895a-4522-dcb6-3a11b6c27f31"
      },
      "source": [
        "import pandas as pd\n",
        "\n",
        "dS = pd.read_csv('drive/MyDrive/graduation/Alzheimers.csv')\n",
        "\n",
        "print(dS.shape)"
      ],
      "execution_count": 111,
      "outputs": [
        {
          "output_type": "stream",
          "name": "stdout",
          "text": [
            "(232, 7)\n"
          ]
        }
      ]
    }
  ]
}