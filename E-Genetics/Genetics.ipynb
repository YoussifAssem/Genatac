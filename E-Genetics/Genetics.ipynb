{
  "nbformat": 4,
  "nbformat_minor": 0,
  "metadata": {
    "colab": {
      "name": "Genetics.ipynb",
      "provenance": [],
      "authorship_tag": "ABX9TyNHStnfYTIc0cXloldqkMSL",
      "include_colab_link": true
    },
    "kernelspec": {
      "name": "python3",
      "display_name": "Python 3"
    },
    "language_info": {
      "name": "python"
    }
  },
  "cells": [
    {
      "cell_type": "markdown",
      "metadata": {
        "id": "view-in-github",
        "colab_type": "text"
      },
      "source": [
        "<a href=\"https://colab.research.google.com/github/YoussifAssem/Genetics/blob/main/E-Genetics/Genetics.ipynb\" target=\"_parent\"><img src=\"https://colab.research.google.com/assets/colab-badge.svg\" alt=\"Open In Colab\"/></a>"
      ]
    },
    {
      "cell_type": "code",
      "metadata": {
        "id": "cLkPfv4-dBc9",
        "colab": {
          "base_uri": "https://localhost:8080/"
        },
        "outputId": "ec1b6403-85e9-4916-a033-aa19ada9f5c4"
      },
      "source": [
        "import pandas as pd\n",
        "\n",
        "dS = pd.read_csv('drive/MyDrive/graduation/Alzheimers.csv')\n",
        "\n",
        "print(dS.shape)\n",
        "print(dS.head()) "
      ],
      "execution_count": 112,
      "outputs": [
        {
          "output_type": "stream",
          "name": "stdout",
          "text": [
            "(232, 7)\n",
            "      gene_name     refseq_id  ... distance experimentally_confirmed\n",
            "0  LOC100379224     NR_033341  ...        0                      NaN\n",
            "1  LOC100379224     NR_033341  ...        0                      NaN\n",
            "2          LIPA  NM_001127605  ...        0                      NaN\n",
            "3         TRAF2     NM_021138  ...        0                      NaN\n",
            "4         TRAF2     NM_021138  ...        0                      NaN\n",
            "\n",
            "[5 rows x 7 columns]\n"
          ]
        }
      ]
    }
  ]
}