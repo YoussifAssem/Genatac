{
  "nbformat": 4,
  "nbformat_minor": 0,
  "metadata": {
    "colab": {
      "name": "Genetics.ipynb",
      "provenance": [],
      "mount_file_id": "https://github.com/YoussifAssem/Genetics/blob/main/E-Genetics/Genetics.ipynb",
      "authorship_tag": "ABX9TyNJW4MQpsMuSuJs6b/CnB+V",
      "include_colab_link": true
    },
    "kernelspec": {
      "name": "python3",
      "display_name": "Python 3"
    },
    "language_info": {
      "name": "python"
    }
  },
  "cells": [
    {
      "cell_type": "markdown",
      "metadata": {
        "id": "view-in-github",
        "colab_type": "text"
      },
      "source": [
        "<a href=\"https://colab.research.google.com/github/YoussifAssem/Genetics/blob/main/E-Genetics/Code/Genetics.ipynb\" target=\"_parent\"><img src=\"https://colab.research.google.com/assets/colab-badge.svg\" alt=\"Open In Colab\"/></a>"
      ]
    },
    {
      "cell_type": "markdown",
      "metadata": {
        "id": "_o9JEbnHN1Ox"
      },
      "source": [
        "**Imports library**"
      ]
    },
    {
      "cell_type": "code",
      "metadata": {
        "id": "TlziPytmNnx0"
      },
      "source": [
        "import pandas as pd\n",
        "from sklearn.neighbors import KNeighborsClassifier\n",
        "from sklearn.model_selection import train_test_split\n",
        "from sklearn.tree import DecisionTreeClassifier, plot_tree\n",
        "from sklearn.svm import SVC \n",
        "import numpy as np \n",
        "import matplotlib.pyplot as plt\n",
        "from sklearn.metrics import accuracy_score\n",
        "from sklearn.metrics import precision_score\n",
        "from sklearn.metrics import recall_score"
      ],
      "execution_count": 33,
      "outputs": []
    },
    {
      "cell_type": "markdown",
      "metadata": {
        "id": "MsdIsr3O2GKF"
      },
      "source": [
        "**Reading big (DataSet)**"
      ]
    },
    {
      "cell_type": "code",
      "metadata": {
        "id": "OBgd7W2t2JTg",
        "colab": {
          "base_uri": "https://localhost:8080/",
          "height": 244
        },
        "outputId": "f9c4be37-a201-4e45-b3d4-6f1395e1b6b5"
      },
      "source": [
        "dataSet = pd.read_csv('drive/MyDrive/graduation/African.csv')\n",
        "dataSet.head()"
      ],
      "execution_count": 34,
      "outputs": [
        {
          "output_type": "execute_result",
          "data": {
            "text/html": [
              "<div>\n",
              "<style scoped>\n",
              "    .dataframe tbody tr th:only-of-type {\n",
              "        vertical-align: middle;\n",
              "    }\n",
              "\n",
              "    .dataframe tbody tr th {\n",
              "        vertical-align: top;\n",
              "    }\n",
              "\n",
              "    .dataframe thead th {\n",
              "        text-align: right;\n",
              "    }\n",
              "</style>\n",
              "<table border=\"1\" class=\"dataframe\">\n",
              "  <thead>\n",
              "    <tr style=\"text-align: right;\">\n",
              "      <th></th>\n",
              "      <th>Sample (Male/Female/Unknown)</th>\n",
              "      <th>rs1896295</th>\n",
              "      <th>rs4671393</th>\n",
              "      <th>rs766432</th>\n",
              "      <th>rs10195871</th>\n",
              "      <th>rs6706648</th>\n",
              "      <th>rs1896294</th>\n",
              "      <th>rs6545817</th>\n",
              "      <th>rs10172646</th>\n",
              "      <th>rs6729815</th>\n",
              "      <th>rs7565301</th>\n",
              "      <th>rs1896296</th>\n",
              "      <th>rs7557939</th>\n",
              "      <th>rs6545816</th>\n",
              "      <th>rs7584113</th>\n",
              "      <th>rs1427407</th>\n",
              "      <th>rs7606173</th>\n",
              "      <th>rs6738440</th>\n",
              "      <th>rs7599488</th>\n",
              "      <th>Class</th>\n",
              "      <th>Population(s)</th>\n",
              "    </tr>\n",
              "  </thead>\n",
              "  <tbody>\n",
              "    <tr>\n",
              "      <th>0</th>\n",
              "      <td>HG01879 (M)</td>\n",
              "      <td>C|C</td>\n",
              "      <td>G|G</td>\n",
              "      <td>A|A</td>\n",
              "      <td>G|G</td>\n",
              "      <td>T|C</td>\n",
              "      <td>T|T</td>\n",
              "      <td>C|T</td>\n",
              "      <td>A|A</td>\n",
              "      <td>T|C</td>\n",
              "      <td>G|G</td>\n",
              "      <td>T|T</td>\n",
              "      <td>A|A</td>\n",
              "      <td>A|C</td>\n",
              "      <td>G|G</td>\n",
              "      <td>G|G</td>\n",
              "      <td>C|C</td>\n",
              "      <td>A|A</td>\n",
              "      <td>C|C</td>\n",
              "      <td>Diseased</td>\n",
              "      <td>ACB, AFR, ALL</td>\n",
              "    </tr>\n",
              "    <tr>\n",
              "      <th>1</th>\n",
              "      <td>HG01880 (F)</td>\n",
              "      <td>T|C</td>\n",
              "      <td>A|G</td>\n",
              "      <td>C|A</td>\n",
              "      <td>A|G</td>\n",
              "      <td>C|C</td>\n",
              "      <td>C|T</td>\n",
              "      <td>C|T</td>\n",
              "      <td>G|A</td>\n",
              "      <td>T|C</td>\n",
              "      <td>G|A</td>\n",
              "      <td>G|T</td>\n",
              "      <td>G|A</td>\n",
              "      <td>A|C</td>\n",
              "      <td>A|G</td>\n",
              "      <td>T|G</td>\n",
              "      <td>G|G</td>\n",
              "      <td>A|A</td>\n",
              "      <td>C|T</td>\n",
              "      <td>Diseased</td>\n",
              "      <td>ACB, AFR, ALL</td>\n",
              "    </tr>\n",
              "    <tr>\n",
              "      <th>2</th>\n",
              "      <td>HG01882 (M)</td>\n",
              "      <td>C|C</td>\n",
              "      <td>G|G</td>\n",
              "      <td>A|A</td>\n",
              "      <td>G|G</td>\n",
              "      <td>C|C</td>\n",
              "      <td>T|T</td>\n",
              "      <td>T|T</td>\n",
              "      <td>A|A</td>\n",
              "      <td>C|C</td>\n",
              "      <td>A|A</td>\n",
              "      <td>T|T</td>\n",
              "      <td>A|A</td>\n",
              "      <td>C|C</td>\n",
              "      <td>G|G</td>\n",
              "      <td>G|G</td>\n",
              "      <td>G|G</td>\n",
              "      <td>A|A</td>\n",
              "      <td>T|T</td>\n",
              "      <td>Diseased</td>\n",
              "      <td>ACB, AFR, ALL</td>\n",
              "    </tr>\n",
              "    <tr>\n",
              "      <th>3</th>\n",
              "      <td>HG01883 (F)</td>\n",
              "      <td>C|T</td>\n",
              "      <td>G|A</td>\n",
              "      <td>A|C</td>\n",
              "      <td>G|A</td>\n",
              "      <td>T|C</td>\n",
              "      <td>T|C</td>\n",
              "      <td>C|C</td>\n",
              "      <td>A|G</td>\n",
              "      <td>T|T</td>\n",
              "      <td>G|G</td>\n",
              "      <td>T|G</td>\n",
              "      <td>A|G</td>\n",
              "      <td>A|A</td>\n",
              "      <td>G|A</td>\n",
              "      <td>G|T</td>\n",
              "      <td>C|G</td>\n",
              "      <td>G|A</td>\n",
              "      <td>C|C</td>\n",
              "      <td>Carrier</td>\n",
              "      <td>ACB, AFR, ALL</td>\n",
              "    </tr>\n",
              "    <tr>\n",
              "      <th>4</th>\n",
              "      <td>HG01885 (M)</td>\n",
              "      <td>C|C</td>\n",
              "      <td>G|G</td>\n",
              "      <td>A|A</td>\n",
              "      <td>G|G</td>\n",
              "      <td>C|T</td>\n",
              "      <td>T|T</td>\n",
              "      <td>T|C</td>\n",
              "      <td>A|A</td>\n",
              "      <td>C|T</td>\n",
              "      <td>A|G</td>\n",
              "      <td>T|T</td>\n",
              "      <td>A|A</td>\n",
              "      <td>C|A</td>\n",
              "      <td>G|G</td>\n",
              "      <td>G|G</td>\n",
              "      <td>G|C</td>\n",
              "      <td>A|A</td>\n",
              "      <td>T|C</td>\n",
              "      <td>Diseased</td>\n",
              "      <td>ACB, AFR, ALL</td>\n",
              "    </tr>\n",
              "  </tbody>\n",
              "</table>\n",
              "</div>"
            ],
            "text/plain": [
              "  Sample (Male/Female/Unknown) rs1896295  ...     Class  Population(s)\n",
              "0                  HG01879 (M)       C|C  ...  Diseased  ACB, AFR, ALL\n",
              "1                  HG01880 (F)       T|C  ...  Diseased  ACB, AFR, ALL\n",
              "2                  HG01882 (M)       C|C  ...  Diseased  ACB, AFR, ALL\n",
              "3                  HG01883 (F)       C|T  ...   Carrier  ACB, AFR, ALL\n",
              "4                  HG01885 (M)       C|C  ...  Diseased  ACB, AFR, ALL\n",
              "\n",
              "[5 rows x 21 columns]"
            ]
          },
          "metadata": {},
          "execution_count": 34
        }
      ]
    },
    {
      "cell_type": "markdown",
      "metadata": {
        "id": "fy7dZj0y27DT"
      },
      "source": [
        "**Illustrates DataSet Output**"
      ]
    },
    {
      "cell_type": "code",
      "metadata": {
        "id": "BRIAAg4r3q_H",
        "colab": {
          "base_uri": "https://localhost:8080/",
          "height": 318
        },
        "outputId": "1099bc6a-8ec7-4cc1-90fc-22e37eee0b2b"
      },
      "source": [
        "dataSet['Class'].value_counts().plot.bar()"
      ],
      "execution_count": 35,
      "outputs": [
        {
          "output_type": "execute_result",
          "data": {
            "text/plain": [
              "<matplotlib.axes._subplots.AxesSubplot at 0x7f91fb7b54d0>"
            ]
          },
          "metadata": {},
          "execution_count": 35
        },
        {
          "output_type": "display_data",
          "data": {
            "image/png": "[encoded data removed]",
            "text/plain": [
              "<Figure size 432x288 with 1 Axes>"
            ]
          },
          "metadata": {
            "needs_background": "light"
          }
        }
      ]
    },
    {
      "cell_type": "markdown",
      "metadata": {
        "id": "Xh-grVtcFxNS"
      },
      "source": [
        "**Convert Males And Females**"
      ]
    },
    {
      "cell_type": "code",
      "metadata": {
        "id": "CSlKYxzyF1El"
      },
      "source": [
        "dataSet['Sample (Male/Female/Unknown)'] = dataSet['Sample (Male/Female/Unknown)'].str.contains('M')\n",
        "dataSet['Sample (Male/Female/Unknown)'] = dataSet['Sample (Male/Female/Unknown)'].replace(True, '0')\n",
        "dataSet['Sample (Male/Female/Unknown)'] = dataSet['Sample (Male/Female/Unknown)'].replace(False, '1')"
      ],
      "execution_count": 36,
      "outputs": []
    },
    {
      "cell_type": "markdown",
      "metadata": {
        "id": "t6PRwX4oD3Yy"
      },
      "source": [
        "**Pre processing Data**"
      ]
    },
    {
      "cell_type": "code",
      "metadata": {
        "id": "_TMGtLreD6OW",
        "colab": {
          "base_uri": "https://localhost:8080/",
          "height": 244
        },
        "outputId": "570cd31b-4534-4095-d35d-1b500b35256e"
      },
      "source": [
        "#rs1896295\n",
        "#Normal\n",
        "dataSet['rs1896295'] = dataSet['rs1896295'].replace('T|T', '0')\n",
        "#Carrier\n",
        "dataSet['rs1896295'] = dataSet['rs1896295'].replace('T|C', '1')\n",
        "dataSet['rs1896295'] = dataSet['rs1896295'].replace('C|T', '1')\n",
        "#Diseased\n",
        "dataSet['rs1896295'] = dataSet['rs1896295'].replace('C|C', '2')\n",
        "\n",
        "\n",
        "\n",
        "#rs4671393   (PROBLEM)\n",
        "#Normal\n",
        "dataSet['rs4671393'] = dataSet['rs4671393'].replace('A|A', '0')\n",
        "#Carrier\n",
        "dataSet['rs4671393'] = dataSet['rs4671393'].replace('A|C', '1')\n",
        "dataSet['rs4671393'] = dataSet['rs4671393'].replace('C|A', '1')\n",
        "#Diseased\n",
        "dataSet['rs4671393'] = dataSet['rs4671393'].replace('C|C', '2')\n",
        "dataSet['rs4671393'] = dataSet['rs4671393'].replace('G|G', '2')\n",
        "dataSet['rs4671393'] = dataSet['rs4671393'].replace('A|G', '2')\n",
        "dataSet['rs4671393'] = dataSet['rs4671393'].replace('G|A', '2')\n",
        "\n",
        "\n",
        "#rs766432\n",
        "#Normal\n",
        "dataSet['rs766432'] = dataSet['rs766432'].replace('C|C', '0')\n",
        "#Carrier\n",
        "dataSet['rs766432'] = dataSet['rs766432'].replace('A|C', '1')\n",
        "dataSet['rs766432'] = dataSet['rs766432'].replace('C|A', '1')\n",
        "#Diseased\n",
        "dataSet['rs766432'] = dataSet['rs766432'].replace('A|A', '2')\n",
        "\n",
        "#rs10195871\n",
        "#Normal\n",
        "dataSet['rs10195871'] = dataSet['rs10195871'].replace('A|A', '0')\n",
        "#Carrier\n",
        "dataSet['rs10195871'] = dataSet['rs10195871'].replace('A|G', '1')\n",
        "dataSet['rs10195871'] = dataSet['rs10195871'].replace('G|A', '1')\n",
        "#Diseased\n",
        "dataSet['rs10195871'] = dataSet['rs10195871'].replace('G|G', '2')\n",
        "\n",
        "#rs6706648  (PROBLEM)\n",
        "#Normal\n",
        "dataSet['rs6706648'] = dataSet['rs6706648'].replace('C|C', '0')\n",
        "#Carrier\n",
        "dataSet['rs6706648'] = dataSet['rs6706648'].replace('C|G', '1')\n",
        "dataSet['rs6706648'] = dataSet['rs6706648'].replace('G|C', '1')\n",
        "#Diseased\n",
        "dataSet['rs6706648'] = dataSet['rs6706648'].replace('G|G', '2')\n",
        "dataSet['rs6706648'] = dataSet['rs6706648'].replace('T|C', '2')\n",
        "dataSet['rs6706648'] = dataSet['rs6706648'].replace('C|T', '2')\n",
        "dataSet['rs6706648'] = dataSet['rs6706648'].replace('T|T', '2')\n",
        "\n",
        "\n",
        "#rs1896294 (PROBLEM)\n",
        "#Normal\n",
        "dataSet['rs1896294'] = dataSet['rs1896294'].replace('C|C', '0')\n",
        "#Carrier\n",
        "dataSet['rs1896294'] = dataSet['rs1896294'].replace('C|G', '1')\n",
        "dataSet['rs1896294'] = dataSet['rs1896294'].replace('G|C', '1')\n",
        "#Diseased\n",
        "dataSet['rs1896294'] = dataSet['rs1896294'].replace('G|G', '2')\n",
        "dataSet['rs1896294'] = dataSet['rs1896294'].replace('T|T', '2')\n",
        "dataSet['rs1896294'] = dataSet['rs1896294'].replace('C|T', '2')\n",
        "dataSet['rs1896294'] = dataSet['rs1896294'].replace('T|C', '2')\n",
        "\n",
        "\n",
        "#rs6545817\n",
        "#Normal\n",
        "dataSet['rs6545817'] = dataSet['rs6545817'].replace('C|C', '0')\n",
        "#Carrier\n",
        "dataSet['rs6545817'] = dataSet['rs6545817'].replace('C|T', '1')\n",
        "dataSet['rs6545817'] = dataSet['rs6545817'].replace('T|C', '1')\n",
        "#Diseased\n",
        "dataSet['rs6545817'] = dataSet['rs6545817'].replace('T|T', '2')\n",
        "\n",
        "\n",
        "#rs10172646\n",
        "#Normal\n",
        "dataSet['rs10172646'] = dataSet['rs10172646'].replace('G|G', '0')\n",
        "#Carrier\n",
        "dataSet['rs10172646'] = dataSet['rs10172646'].replace('G|A', '1')\n",
        "dataSet['rs10172646'] = dataSet['rs10172646'].replace('A|G', '1')\n",
        "#Diseased\n",
        "dataSet['rs10172646'] = dataSet['rs10172646'].replace('A|A', '2')\n",
        "\n",
        "\n",
        "#rs6729815\n",
        "#Normal\n",
        "dataSet['rs6729815'] = dataSet['rs6729815'].replace('T|T', '0')\n",
        "#Carrier\n",
        "dataSet['rs6729815'] = dataSet['rs6729815'].replace('T|C', '1')\n",
        "dataSet['rs6729815'] = dataSet['rs6729815'].replace('C|T', '1')\n",
        "#Diseased\n",
        "dataSet['rs6729815'] = dataSet['rs6729815'].replace('C|C', '2')\n",
        "\n",
        "\n",
        "#rs7565301\n",
        "#Normal\n",
        "dataSet['rs7565301'] = dataSet['rs7565301'].replace('G|G', '0')\n",
        "#Carrier\n",
        "dataSet['rs7565301'] = dataSet['rs7565301'].replace('G|A', '1')\n",
        "dataSet['rs7565301'] = dataSet['rs7565301'].replace('A|G', '1')\n",
        "#Diseased\n",
        "dataSet['rs7565301'] = dataSet['rs7565301'].replace('A|A', '2')\n",
        "\n",
        "\n",
        "\n",
        "#rs1896296\n",
        "#Normal\n",
        "dataSet['rs1896296'] = dataSet['rs1896296'].replace('G|G', '0')\n",
        "#Carrier\n",
        "dataSet['rs1896296'] = dataSet['rs1896296'].replace('G|T', '1')\n",
        "dataSet['rs1896296'] = dataSet['rs1896296'].replace('T|G', '1')\n",
        "#Diseased\n",
        "dataSet['rs1896296'] = dataSet['rs1896296'].replace('T|T', '2')\n",
        "\n",
        "\n",
        "#rs7557939\n",
        "#Normal\n",
        "dataSet['rs7557939'] = dataSet['rs7557939'].replace('G|G', '0')\n",
        "#Carrier\n",
        "dataSet['rs7557939'] = dataSet['rs7557939'].replace('G|A', '1')\n",
        "dataSet['rs7557939'] = dataSet['rs7557939'].replace('A|G', '1')\n",
        "#Diseased\n",
        "dataSet['rs7557939'] = dataSet['rs7557939'].replace('A|A', '2')\n",
        "\n",
        "#rs6545816\n",
        "#Normal\n",
        "dataSet['rs6545816'] = dataSet['rs6545816'].replace('A|A', '0')\n",
        "#Carrier\n",
        "dataSet['rs6545816'] = dataSet['rs6545816'].replace('A|C', '1')\n",
        "dataSet['rs6545816'] = dataSet['rs6545816'].replace('C|A', '1')\n",
        "#Diseased\n",
        "dataSet['rs6545816'] = dataSet['rs6545816'].replace('C|C', '2')\n",
        "\n",
        "#rs7584113\n",
        "#Normal\n",
        "dataSet['rs7584113'] = dataSet['rs7584113'].replace('A|A', '0')\n",
        "#Carrier\n",
        "dataSet['rs7584113'] = dataSet['rs7584113'].replace('A|G', '1')\n",
        "dataSet['rs7584113'] = dataSet['rs7584113'].replace('G|A', '1')\n",
        "#Diseased\n",
        "dataSet['rs7584113'] = dataSet['rs7584113'].replace('G|G', '2')\n",
        "\n",
        "#rs1427407  (PROBLEM)\n",
        "#Normal\n",
        "dataSet['rs1427407'] = dataSet['rs1427407'].replace('T|T', '0')\n",
        "#Carrier\n",
        "dataSet['rs1427407'] = dataSet['rs1427407'].replace('T|C', '1')\n",
        "dataSet['rs1427407'] = dataSet['rs1427407'].replace('C|T', '1')\n",
        "#Diseased\n",
        "dataSet['rs1427407'] = dataSet['rs1427407'].replace('C|C', '2')\n",
        "dataSet['rs1427407'] = dataSet['rs1427407'].replace('G|G', '2')\n",
        "dataSet['rs1427407'] = dataSet['rs1427407'].replace('T|G', '2')\n",
        "dataSet['rs1427407'] = dataSet['rs1427407'].replace('G|T', '2')\n",
        "\n",
        "\n",
        "#rs7606173  (PROBLEM)\n",
        "#Normal\n",
        "dataSet['rs7606173'] = dataSet['rs7606173'].replace('G|G', '0')\n",
        "#Carrier\n",
        "dataSet['rs7606173'] = dataSet['rs7606173'].replace('G|A', '1')\n",
        "dataSet['rs7606173'] = dataSet['rs7606173'].replace('A|G', '1')\n",
        "#Diseased\n",
        "dataSet['rs7606173'] = dataSet['rs7606173'].replace('A|A', '2')\n",
        "dataSet['rs7606173'] = dataSet['rs7606173'].replace('C|C', '2')\n",
        "dataSet['rs7606173'] = dataSet['rs7606173'].replace('C|G', '2')\n",
        "dataSet['rs7606173'] = dataSet['rs7606173'].replace('G|C', '2')\n",
        "\n",
        "\n",
        "#rs6738440\n",
        "#Normal\n",
        "dataSet['rs6738440'] = dataSet['rs6738440'].replace('A|A', '0')\n",
        "#Carrier\n",
        "dataSet['rs6738440'] = dataSet['rs6738440'].replace('G|A', '1')\n",
        "dataSet['rs6738440'] = dataSet['rs6738440'].replace('A|G', '1')\n",
        "#Diseased\n",
        "dataSet['rs6738440'] = dataSet['rs6738440'].replace('G|G', '2')\n",
        "\n",
        "\n",
        "#rs7599488 (PROBLEM)\n",
        "#Normal\n",
        "dataSet['rs7599488'] = dataSet['rs7599488'].replace('C|C', '0')\n",
        "#Carrier\n",
        "dataSet['rs7599488'] = dataSet['rs7599488'].replace('C|G', '1')\n",
        "dataSet['rs7599488'] = dataSet['rs7599488'].replace('G|C', '1')\n",
        "#Diseased\n",
        "dataSet['rs7599488'] = dataSet['rs7599488'].replace('G|G', '2')\n",
        "dataSet['rs7599488'] = dataSet['rs7599488'].replace('C|T', '2')\n",
        "dataSet['rs7599488'] = dataSet['rs7599488'].replace('T|C', '2')\n",
        "dataSet['rs7599488'] = dataSet['rs7599488'].replace('T|T', '2')\n",
        "\n",
        "\n",
        "dataSet = dataSet.drop(columns=['Population(s)'])\n",
        "\n",
        "#dataSet = dataSet.rename(columns={'rs1896295':'One', 'rs766432':'Two', 'rs10195871':'Three', 'rs6545817':'Four', 'rs10172646':'Five', 'rs6729815':'Six', 'rs7565301':'Seven', 'rs1896296':'Eight', 'rs7557939':'Nine', 'rs6545816':'Ten','rs7584113':'Eleven', 'rs6738440':'Twelve'})\n",
        "\n",
        "\n",
        "dataSet.head()"
      ],
      "execution_count": 37,
      "outputs": [
        {
          "output_type": "execute_result",
          "data": {
            "text/html": [
              "<div>\n",
              "<style scoped>\n",
              "    .dataframe tbody tr th:only-of-type {\n",
              "        vertical-align: middle;\n",
              "    }\n",
              "\n",
              "    .dataframe tbody tr th {\n",
              "        vertical-align: top;\n",
              "    }\n",
              "\n",
              "    .dataframe thead th {\n",
              "        text-align: right;\n",
              "    }\n",
              "</style>\n",
              "<table border=\"1\" class=\"dataframe\">\n",
              "  <thead>\n",
              "    <tr style=\"text-align: right;\">\n",
              "      <th></th>\n",
              "      <th>Sample (Male/Female/Unknown)</th>\n",
              "      <th>rs1896295</th>\n",
              "      <th>rs4671393</th>\n",
              "      <th>rs766432</th>\n",
              "      <th>rs10195871</th>\n",
              "      <th>rs6706648</th>\n",
              "      <th>rs1896294</th>\n",
              "      <th>rs6545817</th>\n",
              "      <th>rs10172646</th>\n",
              "      <th>rs6729815</th>\n",
              "      <th>rs7565301</th>\n",
              "      <th>rs1896296</th>\n",
              "      <th>rs7557939</th>\n",
              "      <th>rs6545816</th>\n",
              "      <th>rs7584113</th>\n",
              "      <th>rs1427407</th>\n",
              "      <th>rs7606173</th>\n",
              "      <th>rs6738440</th>\n",
              "      <th>rs7599488</th>\n",
              "      <th>Class</th>\n",
              "    </tr>\n",
              "  </thead>\n",
              "  <tbody>\n",
              "    <tr>\n",
              "      <th>0</th>\n",
              "      <td>0</td>\n",
              "      <td>2</td>\n",
              "      <td>2</td>\n",
              "      <td>2</td>\n",
              "      <td>2</td>\n",
              "      <td>2</td>\n",
              "      <td>2</td>\n",
              "      <td>1</td>\n",
              "      <td>2</td>\n",
              "      <td>1</td>\n",
              "      <td>0</td>\n",
              "      <td>2</td>\n",
              "      <td>2</td>\n",
              "      <td>1</td>\n",
              "      <td>2</td>\n",
              "      <td>2</td>\n",
              "      <td>2</td>\n",
              "      <td>0</td>\n",
              "      <td>0</td>\n",
              "      <td>Diseased</td>\n",
              "    </tr>\n",
              "    <tr>\n",
              "      <th>1</th>\n",
              "      <td>1</td>\n",
              "      <td>1</td>\n",
              "      <td>2</td>\n",
              "      <td>1</td>\n",
              "      <td>1</td>\n",
              "      <td>0</td>\n",
              "      <td>2</td>\n",
              "      <td>1</td>\n",
              "      <td>1</td>\n",
              "      <td>1</td>\n",
              "      <td>1</td>\n",
              "      <td>1</td>\n",
              "      <td>1</td>\n",
              "      <td>1</td>\n",
              "      <td>1</td>\n",
              "      <td>2</td>\n",
              "      <td>0</td>\n",
              "      <td>0</td>\n",
              "      <td>2</td>\n",
              "      <td>Diseased</td>\n",
              "    </tr>\n",
              "    <tr>\n",
              "      <th>2</th>\n",
              "      <td>0</td>\n",
              "      <td>2</td>\n",
              "      <td>2</td>\n",
              "      <td>2</td>\n",
              "      <td>2</td>\n",
              "      <td>0</td>\n",
              "      <td>2</td>\n",
              "      <td>2</td>\n",
              "      <td>2</td>\n",
              "      <td>2</td>\n",
              "      <td>2</td>\n",
              "      <td>2</td>\n",
              "      <td>2</td>\n",
              "      <td>2</td>\n",
              "      <td>2</td>\n",
              "      <td>2</td>\n",
              "      <td>0</td>\n",
              "      <td>0</td>\n",
              "      <td>2</td>\n",
              "      <td>Diseased</td>\n",
              "    </tr>\n",
              "    <tr>\n",
              "      <th>3</th>\n",
              "      <td>1</td>\n",
              "      <td>1</td>\n",
              "      <td>2</td>\n",
              "      <td>1</td>\n",
              "      <td>1</td>\n",
              "      <td>2</td>\n",
              "      <td>2</td>\n",
              "      <td>0</td>\n",
              "      <td>1</td>\n",
              "      <td>0</td>\n",
              "      <td>0</td>\n",
              "      <td>1</td>\n",
              "      <td>1</td>\n",
              "      <td>0</td>\n",
              "      <td>1</td>\n",
              "      <td>2</td>\n",
              "      <td>2</td>\n",
              "      <td>1</td>\n",
              "      <td>0</td>\n",
              "      <td>Carrier</td>\n",
              "    </tr>\n",
              "    <tr>\n",
              "      <th>4</th>\n",
              "      <td>0</td>\n",
              "      <td>2</td>\n",
              "      <td>2</td>\n",
              "      <td>2</td>\n",
              "      <td>2</td>\n",
              "      <td>2</td>\n",
              "      <td>2</td>\n",
              "      <td>1</td>\n",
              "      <td>2</td>\n",
              "      <td>1</td>\n",
              "      <td>1</td>\n",
              "      <td>2</td>\n",
              "      <td>2</td>\n",
              "      <td>1</td>\n",
              "      <td>2</td>\n",
              "      <td>2</td>\n",
              "      <td>2</td>\n",
              "      <td>0</td>\n",
              "      <td>2</td>\n",
              "      <td>Diseased</td>\n",
              "    </tr>\n",
              "  </tbody>\n",
              "</table>\n",
              "</div>"
            ],
            "text/plain": [
              "  Sample (Male/Female/Unknown) rs1896295  ... rs7599488     Class\n",
              "0                            0         2  ...         0  Diseased\n",
              "1                            1         1  ...         2  Diseased\n",
              "2                            0         2  ...         2  Diseased\n",
              "3                            1         1  ...         0   Carrier\n",
              "4                            0         2  ...         2  Diseased\n",
              "\n",
              "[5 rows x 20 columns]"
            ]
          },
          "metadata": {},
          "execution_count": 37
        }
      ]
    },
    {
      "cell_type": "markdown",
      "metadata": {
        "id": "xRZqSeIW5bHG"
      },
      "source": [
        "****Make Data Ready for Creating Algorithms of(bigData)****"
      ]
    },
    {
      "cell_type": "code",
      "metadata": {
        "id": "w7H1oYCy5fHo",
        "colab": {
          "base_uri": "https://localhost:8080/"
        },
        "outputId": "564a54e1-2a84-4a1e-f275-e413e3bbca3c"
      },
      "source": [
        "X_train, X_test, y_train, y_test = train_test_split(dataSet.drop('Class', axis=1), dataSet['Class'], test_size=0.3)\n",
        "print('X_Train\\n\\n', X_train)\n",
        "print('X_Test\\n\\n', X_test)\n",
        "print('y_Train\\n\\n', y_train)\n",
        "print('y_Test\\n\\n', y_test)"
      ],
      "execution_count": 38,
      "outputs": [
        {
          "output_type": "stream",
          "name": "stdout",
          "text": [
            "X_Train\n",
            "\n",
            "     Sample (Male/Female/Unknown) rs1896295  ... rs6738440 rs7599488\n",
            "327                            0         1  ...         0         0\n",
            "13                             1         1  ...         0         2\n",
            "113                            0         1  ...         1         0\n",
            "304                            0         1  ...         0         2\n",
            "414                            1         1  ...         1         0\n",
            "..                           ...       ...  ...       ...       ...\n",
            "297                            1         2  ...         1         0\n",
            "82                             1         2  ...         0         2\n",
            "16                             0         0  ...         0         0\n",
            "28                             1         2  ...         1         2\n",
            "573                            1         1  ...         0         2\n",
            "\n",
            "[462 rows x 19 columns]\n",
            "X_Test\n",
            "\n",
            "     Sample (Male/Female/Unknown) rs1896295  ... rs6738440 rs7599488\n",
            "241                            1         2  ...         1         2\n",
            "75                             1         2  ...         1         2\n",
            "577                            1         2  ...         1         2\n",
            "654                            0         2  ...         1         2\n",
            "131                            0         2  ...         0         2\n",
            "..                           ...       ...  ...       ...       ...\n",
            "99                             1         1  ...         0         0\n",
            "452                            0         0  ...         0         0\n",
            "473                            0         1  ...         1         0\n",
            "118                            1         1  ...         0         2\n",
            "345                            1         1  ...         0         0\n",
            "\n",
            "[199 rows x 19 columns]\n",
            "y_Train\n",
            "\n",
            " 327     Carrier\n",
            "13      Carrier\n",
            "113     Carrier\n",
            "304     Carrier\n",
            "414     Carrier\n",
            "         ...   \n",
            "297    Diseased\n",
            "82     Diseased\n",
            "16       Normal\n",
            "28     Diseased\n",
            "573     Carrier\n",
            "Name: Class, Length: 462, dtype: object\n",
            "y_Test\n",
            "\n",
            " 241    Diseased\n",
            "75     Diseased\n",
            "577    Diseased\n",
            "654    Diseased\n",
            "131    Diseased\n",
            "         ...   \n",
            "99      Carrier\n",
            "452     Carrier\n",
            "473     Carrier\n",
            "118     Carrier\n",
            "345     Carrier\n",
            "Name: Class, Length: 199, dtype: object\n"
          ]
        }
      ]
    },
    {
      "cell_type": "markdown",
      "metadata": {
        "id": "WWwErS1gRDc4"
      },
      "source": [
        "**Creating KNN Algorithm for (DataSet)**"
      ]
    },
    {
      "cell_type": "code",
      "metadata": {
        "id": "Ex-TwDu_RMOf",
        "colab": {
          "base_uri": "https://localhost:8080/"
        },
        "outputId": "9d96b20c-1656-47bc-f68f-2943d962247b"
      },
      "source": [
        "knnModel = KNeighborsClassifier(n_neighbors=5)\n",
        "knnModel.fit(X_train, y_train)\n",
        "print(knnModel.predict(X_test))\n",
        "\n",
        "print('KNN Accuracy: ', knnModel.score(X_test,y_test))\n",
        "#print('KNN Precission', precision_score(X_test, y_test))\n",
        "#print('KNN Recall', recall_score(X_test ,y_test))"
      ],
      "execution_count": 39,
      "outputs": [
        {
          "output_type": "stream",
          "name": "stdout",
          "text": [
            "['Diseased' 'Diseased' 'Diseased' 'Diseased' 'Diseased' 'Carrier' 'Normal'\n",
            " 'Diseased' 'Diseased' 'Diseased' 'Diseased' 'Normal' 'Carrier' 'Carrier'\n",
            " 'Diseased' 'Carrier' 'Carrier' 'Diseased' 'Carrier' 'Carrier' 'Carrier'\n",
            " 'Diseased' 'Diseased' 'Diseased' 'Carrier' 'Carrier' 'Diseased'\n",
            " 'Diseased' 'Carrier' 'Diseased' 'Carrier' 'Diseased' 'Diseased' 'Carrier'\n",
            " 'Diseased' 'Diseased' 'Diseased' 'Carrier' 'Carrier' 'Diseased' 'Normal'\n",
            " 'Diseased' 'Carrier' 'Carrier' 'Carrier' 'Diseased' 'Carrier' 'Carrier'\n",
            " 'Diseased' 'Carrier' 'Carrier' 'Diseased' 'Carrier' 'Diseased' 'Diseased'\n",
            " 'Carrier' 'Carrier' 'Diseased' 'Carrier' 'Diseased' 'Diseased' 'Diseased'\n",
            " 'Diseased' 'Carrier' 'Diseased' 'Normal' 'Diseased' 'Carrier' 'Carrier'\n",
            " 'Diseased' 'Diseased' 'Diseased' 'Diseased' 'Diseased' 'Carrier'\n",
            " 'Diseased' 'Diseased' 'Diseased' 'Carrier' 'Diseased' 'Diseased'\n",
            " 'Diseased' 'Diseased' 'Diseased' 'Diseased' 'Diseased' 'Diseased'\n",
            " 'Diseased' 'Diseased' 'Carrier' 'Carrier' 'Diseased' 'Diseased' 'Carrier'\n",
            " 'Carrier' 'Carrier' 'Diseased' 'Normal' 'Diseased' 'Carrier' 'Diseased'\n",
            " 'Diseased' 'Diseased' 'Diseased' 'Diseased' 'Carrier' 'Carrier'\n",
            " 'Diseased' 'Diseased' 'Carrier' 'Normal' 'Diseased' 'Diseased' 'Diseased'\n",
            " 'Carrier' 'Diseased' 'Diseased' 'Carrier' 'Carrier' 'Diseased' 'Carrier'\n",
            " 'Diseased' 'Diseased' 'Diseased' 'Carrier' 'Diseased' 'Diseased'\n",
            " 'Carrier' 'Carrier' 'Diseased' 'Carrier' 'Carrier' 'Carrier' 'Carrier'\n",
            " 'Diseased' 'Diseased' 'Diseased' 'Carrier' 'Diseased' 'Diseased'\n",
            " 'Carrier' 'Carrier' 'Diseased' 'Carrier' 'Carrier' 'Carrier' 'Diseased'\n",
            " 'Carrier' 'Diseased' 'Carrier' 'Diseased' 'Carrier' 'Diseased' 'Normal'\n",
            " 'Carrier' 'Diseased' 'Diseased' 'Diseased' 'Diseased' 'Diseased'\n",
            " 'Diseased' 'Carrier' 'Diseased' 'Carrier' 'Carrier' 'Carrier' 'Diseased'\n",
            " 'Diseased' 'Carrier' 'Diseased' 'Carrier' 'Diseased' 'Diseased' 'Normal'\n",
            " 'Diseased' 'Carrier' 'Carrier' 'Diseased' 'Normal' 'Normal' 'Diseased'\n",
            " 'Diseased' 'Diseased' 'Carrier' 'Diseased' 'Diseased' 'Carrier'\n",
            " 'Diseased' 'Carrier' 'Carrier' 'Carrier' 'Diseased' 'Carrier' 'Carrier'\n",
            " 'Carrier' 'Carrier' 'Carrier' 'Carrier' 'Carrier']\n",
            "KNN Accuracy:  0.9949748743718593\n"
          ]
        }
      ]
    },
    {
      "cell_type": "markdown",
      "metadata": {
        "id": "zuQFgnO_6dmE"
      },
      "source": [
        "**Creating SVC Algorithm for (DataSet)**"
      ]
    },
    {
      "cell_type": "code",
      "metadata": {
        "id": "iTG6BNxr6ioC",
        "colab": {
          "base_uri": "https://localhost:8080/"
        },
        "outputId": "0bf50d6a-4515-48d2-8c89-47f76fa94b13"
      },
      "source": [
        "svcModel = SVC(kernel='linear', C=0.1)\n",
        "svcModel.fit(X_train, y_train)\n",
        "print(svcModel.predict(X_test))\n",
        "\n",
        "print('SVC Accuracy: ', svcModel.score(X_test,y_test))\n",
        "#print('KNN Precission', model1.Precission_score(X_test, y_test))\n",
        "#print('KNN Recall', model1.Recall_score(X_test ,y_test))"
      ],
      "execution_count": 40,
      "outputs": [
        {
          "output_type": "stream",
          "name": "stdout",
          "text": [
            "['Diseased' 'Diseased' 'Diseased' 'Diseased' 'Diseased' 'Carrier' 'Normal'\n",
            " 'Diseased' 'Diseased' 'Diseased' 'Diseased' 'Normal' 'Carrier' 'Carrier'\n",
            " 'Diseased' 'Carrier' 'Carrier' 'Diseased' 'Carrier' 'Carrier' 'Carrier'\n",
            " 'Diseased' 'Diseased' 'Diseased' 'Carrier' 'Carrier' 'Diseased'\n",
            " 'Diseased' 'Carrier' 'Diseased' 'Carrier' 'Diseased' 'Diseased' 'Carrier'\n",
            " 'Diseased' 'Diseased' 'Diseased' 'Carrier' 'Carrier' 'Diseased' 'Normal'\n",
            " 'Diseased' 'Carrier' 'Carrier' 'Carrier' 'Diseased' 'Carrier' 'Carrier'\n",
            " 'Diseased' 'Carrier' 'Carrier' 'Diseased' 'Carrier' 'Diseased' 'Diseased'\n",
            " 'Carrier' 'Carrier' 'Diseased' 'Carrier' 'Diseased' 'Diseased' 'Diseased'\n",
            " 'Diseased' 'Carrier' 'Diseased' 'Normal' 'Diseased' 'Carrier' 'Carrier'\n",
            " 'Diseased' 'Diseased' 'Diseased' 'Diseased' 'Diseased' 'Carrier'\n",
            " 'Diseased' 'Diseased' 'Diseased' 'Carrier' 'Diseased' 'Diseased'\n",
            " 'Diseased' 'Diseased' 'Diseased' 'Diseased' 'Diseased' 'Diseased'\n",
            " 'Diseased' 'Diseased' 'Carrier' 'Carrier' 'Diseased' 'Diseased' 'Carrier'\n",
            " 'Carrier' 'Carrier' 'Diseased' 'Normal' 'Diseased' 'Diseased' 'Diseased'\n",
            " 'Diseased' 'Diseased' 'Diseased' 'Diseased' 'Carrier' 'Carrier'\n",
            " 'Diseased' 'Diseased' 'Carrier' 'Normal' 'Diseased' 'Diseased' 'Diseased'\n",
            " 'Carrier' 'Diseased' 'Diseased' 'Carrier' 'Carrier' 'Carrier' 'Carrier'\n",
            " 'Diseased' 'Diseased' 'Diseased' 'Carrier' 'Diseased' 'Diseased'\n",
            " 'Carrier' 'Carrier' 'Diseased' 'Carrier' 'Carrier' 'Carrier' 'Carrier'\n",
            " 'Diseased' 'Diseased' 'Diseased' 'Carrier' 'Diseased' 'Diseased'\n",
            " 'Carrier' 'Carrier' 'Diseased' 'Carrier' 'Carrier' 'Carrier' 'Diseased'\n",
            " 'Carrier' 'Diseased' 'Carrier' 'Diseased' 'Carrier' 'Diseased' 'Normal'\n",
            " 'Carrier' 'Diseased' 'Diseased' 'Diseased' 'Diseased' 'Diseased'\n",
            " 'Diseased' 'Carrier' 'Diseased' 'Carrier' 'Carrier' 'Carrier' 'Diseased'\n",
            " 'Diseased' 'Carrier' 'Diseased' 'Carrier' 'Diseased' 'Diseased' 'Normal'\n",
            " 'Diseased' 'Carrier' 'Carrier' 'Diseased' 'Normal' 'Normal' 'Diseased'\n",
            " 'Diseased' 'Diseased' 'Carrier' 'Diseased' 'Diseased' 'Carrier'\n",
            " 'Diseased' 'Carrier' 'Carrier' 'Carrier' 'Diseased' 'Carrier' 'Carrier'\n",
            " 'Carrier' 'Carrier' 'Carrier' 'Carrier' 'Carrier']\n",
            "SVC Accuracy:  0.9949748743718593\n"
          ]
        }
      ]
    },
    {
      "cell_type": "markdown",
      "metadata": {
        "id": "puWUAQP9NwDW"
      },
      "source": [
        "**Decision Tree**"
      ]
    },
    {
      "cell_type": "code",
      "metadata": {
        "id": "HlxsC6e_NyPI",
        "colab": {
          "base_uri": "https://localhost:8080/",
          "height": 1000
        },
        "outputId": "fe42d2aa-4910-4648-8ee8-4f2a8f7c8115"
      },
      "source": [
        "decisionTreeModel = DecisionTreeClassifier()\n",
        "decisionTreeModel.fit(X_train, y_train)\n",
        "fi = plt.figure(figsize=(20, 20))\n",
        "plo = plot_tree(decisionTreeModel, feature_names=list(dataSet.columns), class_names=dataSet['Class'],filled=True)\n",
        "print('Decision Tree Accuracy', decisionTreeModel.score(X_test, y_test))"
      ],
      "execution_count": null,
      "outputs": [
        {
          "output_type": "stream",
          "name": "stdout",
          "text": [
            "Decision Tree Accuracy 0.9924812030075187\n"
          ]
        },
        {
          "output_type": "display_data",
          "data": {
            "image/png": "[encoded data removed]",
            "text/plain": [
              "<Figure size 1440x1440 with 1 Axes>"
            ]
          },
          "metadata": {
            "needs_background": "light"
          }
        }
      ]
    }
  ]
}